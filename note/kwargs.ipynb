{
 "cells": [
  {
   "cell_type": "code",
   "execution_count": 12,
   "id": "85b15a79-5c81-48c1-99a2-47d820d3dadb",
   "metadata": {},
   "outputs": [],
   "source": [
    "def fun_args(*args):\n",
    "    print(f\"args...{type(args)}\")\n",
    "    for a in args:\n",
    "        print(a)"
   ]
  },
  {
   "cell_type": "code",
   "execution_count": 14,
   "id": "558267ca-c6a2-4330-9eca-414fd971d87a",
   "metadata": {},
   "outputs": [
    {
     "name": "stdout",
     "output_type": "stream",
     "text": [
      "args...<class 'tuple'>\n",
      "1\n",
      "2\n",
      "3\n",
      "4\n",
      "5\n"
     ]
    }
   ],
   "source": [
    "fun_args(1,2,3,4,5)"
   ]
  },
  {
   "cell_type": "code",
   "execution_count": 18,
   "id": "daa134bf-98d6-47a6-91b8-726403a3cef6",
   "metadata": {},
   "outputs": [],
   "source": [
    "dic = {'name': 'pey', 'phone': '010-9999-1234', 'birth': '1118'}"
   ]
  },
  {
   "cell_type": "code",
   "execution_count": 22,
   "id": "657c39ce-e18e-41e5-a64a-fa8425aca4ea",
   "metadata": {},
   "outputs": [],
   "source": [
    "def fun_args(**kwargs):\n",
    "    print(f\"kwargs...{type(kwargs)}\")\n",
    "    for key,value in dic.items():\n",
    "        print(f\" key:{key}, value:{value}\")"
   ]
  },
  {
   "cell_type": "code",
   "execution_count": 23,
   "id": "544c63e4-c87f-4277-81cf-9db5eedab326",
   "metadata": {},
   "outputs": [
    {
     "name": "stdout",
     "output_type": "stream",
     "text": [
      "kwargs...<class 'dict'>\n",
      " key:name, value:pey\n",
      " key:phone, value:010-9999-1234\n",
      " key:birth, value:1118\n"
     ]
    }
   ],
   "source": [
    "fun_args()"
   ]
  },
  {
   "cell_type": "code",
   "execution_count": 33,
   "id": "e95e5fa7-5afe-4216-9842-c3e69c90b023",
   "metadata": {},
   "outputs": [],
   "source": [
    "def fun_JJAM(a,*args,**kwargs):\n",
    "    print(a)\n",
    "    for i in args:\n",
    "        print(i)\n",
    "    for k,v in kwargs.items():\n",
    "        print(f\"ket:{k},value:{v}\")"
   ]
  },
  {
   "cell_type": "code",
   "execution_count": 34,
   "id": "217bbe1a-78db-49a8-ac62-dce09a132851",
   "metadata": {},
   "outputs": [
    {
     "name": "stdout",
     "output_type": "stream",
     "text": [
      "tom\n",
      "1\n",
      "2\n",
      "3\n",
      "4\n",
      "5\n",
      "ket:amy,value:36\n",
      "ket:jacob,value:38\n"
     ]
    }
   ],
   "source": [
    "fun_JJAM('tom',1,2,3,4,5,amy=36,jacob=38)"
   ]
  },
  {
   "cell_type": "code",
   "execution_count": null,
   "id": "2de25a3c-d25e-4c4e-b5cc-81a6eb12b0d3",
   "metadata": {},
   "outputs": [],
   "source": []
  }
 ],
 "metadata": {
  "kernelspec": {
   "display_name": "Python 3 (ipykernel)",
   "language": "python",
   "name": "python3"
  },
  "language_info": {
   "codemirror_mode": {
    "name": "ipython",
    "version": 3
   },
   "file_extension": ".py",
   "mimetype": "text/x-python",
   "name": "python",
   "nbconvert_exporter": "python",
   "pygments_lexer": "ipython3",
   "version": "3.10.12"
  }
 },
 "nbformat": 4,
 "nbformat_minor": 5
}
