{
 "cells": [
  {
   "cell_type": "code",
   "execution_count": 11,
   "id": "acf3ee74-9c55-4d3f-8ceb-27f272760bf7",
   "metadata": {},
   "outputs": [],
   "source": [
    "import psycopg"
   ]
  },
  {
   "cell_type": "code",
   "execution_count": 12,
   "id": "891bb836-d1c0-4d94-a328-6791bb3d1b4e",
   "metadata": {},
   "outputs": [],
   "source": [
    "DB_CONFIG = { \"dbname\": \"sunsindb\",\n",
    "             \"user\":\"sunsin\",\n",
    "             \"password\":\"mysecretpassword\",\n",
    "             \"host\":\"localhost\",\n",
    "             \"port\":\"5432\"\n",
    "            }\n"
   ]
  },
  {
   "cell_type": "code",
   "execution_count": 13,
   "id": "208e9211-40cb-4c20-ab40-f6f71ce561eb",
   "metadata": {},
   "outputs": [],
   "source": [
    "def get_connection():\n",
    "    return psycopg.connect(**DB_CONFIG)"
   ]
  },
  {
   "cell_type": "code",
   "execution_count": 5,
   "id": "770c3007-715c-4449-a250-56cf1fa40652",
   "metadata": {},
   "outputs": [
    {
     "data": {
      "text/plain": [
       "<psycopg.Connection [IDLE] (host=localhost user=sunsin database=sunsindb) at 0x7f1e084e28f0>"
      ]
     },
     "execution_count": 5,
     "metadata": {},
     "output_type": "execute_result"
    }
   ],
   "source": [
    "#psycopg.connect(**DB_CONFIG)\n",
    "# psycopg.connect(dbname =\"sunsindb\", user=sunsin\", password=\"mysecretpassword\", host=\"localhost\", port=\"5432\")\n",
    "#위랑 같은 의미 "
   ]
  },
  {
   "cell_type": "code",
   "execution_count": 14,
   "id": "18bbce99-707c-4c8d-b558-5e102f8b150f",
   "metadata": {},
   "outputs": [],
   "source": [
    "conn = get_connection()"
   ]
  },
  {
   "cell_type": "code",
   "execution_count": 15,
   "id": "58ab7293-54dd-4685-82c4-7ca0207a7720",
   "metadata": {},
   "outputs": [],
   "source": [
    "cursor = conn.cursor()"
   ]
  },
  {
   "cell_type": "code",
   "execution_count": 16,
   "id": "187e1635-8fbe-44e0-a20a-4dcdc5638b56",
   "metadata": {},
   "outputs": [
    {
     "data": {
      "text/plain": [
       "<psycopg.Cursor [COMMAND_OK] [INTRANS] (host=localhost user=sunsin database=sunsindb) at 0x7f1df1f14eb0>"
      ]
     },
     "execution_count": 16,
     "metadata": {},
     "output_type": "execute_result"
    }
   ],
   "source": [
    "cursor.execute(\"INSERT INTO lunch_menu (menu_name,member_name,dt) VALUES (%s,%s,%s);\",\n",
    "               ('테스트음식','테스트맴버','2024-01-01')\n",
    "              )"
   ]
  },
  {
   "cell_type": "code",
   "execution_count": 17,
   "id": "13e01328-2edb-4542-9f02-c7619c692683",
   "metadata": {},
   "outputs": [],
   "source": [
    "conn.commit()"
   ]
  },
  {
   "cell_type": "code",
   "execution_count": 18,
   "id": "586e754b-6d04-4ac5-9540-685e117fb71f",
   "metadata": {},
   "outputs": [],
   "source": [
    "cursor.close()"
   ]
  },
  {
   "cell_type": "code",
   "execution_count": null,
   "id": "9937ec86-12d3-41ec-8d44-6b738243d54b",
   "metadata": {},
   "outputs": [],
   "source": []
  }
 ],
 "metadata": {
  "kernelspec": {
   "display_name": "Python 3 (ipykernel)",
   "language": "python",
   "name": "python3"
  },
  "language_info": {
   "codemirror_mode": {
    "name": "ipython",
    "version": 3
   },
   "file_extension": ".py",
   "mimetype": "text/x-python",
   "name": "python",
   "nbconvert_exporter": "python",
   "pygments_lexer": "ipython3",
   "version": "3.10.12"
  }
 },
 "nbformat": 4,
 "nbformat_minor": 5
}
